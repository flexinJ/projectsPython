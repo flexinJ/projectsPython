{
  "nbformat": 4,
  "nbformat_minor": 0,
  "metadata": {
    "colab": {
      "provenance": [],
      "include_colab_link": true
    },
    "kernelspec": {
      "name": "python3",
      "display_name": "Python 3"
    },
    "language_info": {
      "name": "python"
    }
  },
  "cells": [
    {
      "cell_type": "markdown",
      "metadata": {
        "id": "view-in-github",
        "colab_type": "text"
      },
      "source": [
        "<a href=\"https://colab.research.google.com/github/flexinJ/projectsPython/blob/main/II_unidade_Simula%C3%A7%C3%A3o_Computacional.ipynb\" target=\"_parent\"><img src=\"https://colab.research.google.com/assets/colab-badge.svg\" alt=\"Open In Colab\"/></a>"
      ]
    },
    {
      "cell_type": "markdown",
      "source": [
        "CAMPO ELÉTRICO UNIFORME - LANÇAMENTO OBLÍQUO"
      ],
      "metadata": {
        "id": "I7FWvNTLbnHW"
      }
    },
    {
      "cell_type": "code",
      "source": [
        "#Necessary Imports\n",
        "import math\n",
        "import random\n",
        "import numpy as np\n",
        "import matplotlib.pyplot as plt"
      ],
      "metadata": {
        "id": "y64AQDA2gQXp"
      },
      "execution_count": null,
      "outputs": []
    },
    {
      "cell_type": "code",
      "source": [
        "# Declarando um dicionário para os parametros físicos\n",
        "parametros = dict()"
      ],
      "metadata": {
        "id": "WvmkHqlBgQXq"
      },
      "execution_count": null,
      "outputs": []
    },
    {
      "cell_type": "markdown",
      "source": [
        "Variáveis Globais & Declaração de Variavel"
      ],
      "metadata": {
        "id": "U3tmL8YpR3dT"
      }
    },
    {
      "cell_type": "code",
      "source": [
        "# Constantes\n",
        "q = (1.60217663*(10**-19)) # Carga do Elétron (c)\n",
        "parametros['Carga do elétron'] = q\n",
        "m = (9.11*(10**-31)) # Massa de repouso do elétron (kg)\n",
        "parametros['Massa do elétron'] = m"
      ],
      "metadata": {
        "id": "vhjHgsdygQXq"
      },
      "execution_count": null,
      "outputs": []
    },
    {
      "cell_type": "code",
      "source": [
        "# Definindo a velocidade Inicial do Elétron (vi)\n",
        "def setV0():\n",
        "  v0 = float(input('Velocidade Inicial do Elétron (m/s): '))\n",
        "  parametros['Velocidade Inicial'] = v0\n",
        "  return v0"
      ],
      "metadata": {
        "id": "3JzIQyKfgQXr"
      },
      "execution_count": null,
      "outputs": []
    },
    {
      "cell_type": "code",
      "source": [
        "# Definindo o campo elétrico (E)\n",
        "def setE():\n",
        "  E = float(input('Valor do campo elétrico (n/c): '))\n",
        "  parametros['Campo Elétrico'] = E\n",
        "  return E"
      ],
      "metadata": {
        "id": "uk4lqCkqgQXr"
      },
      "execution_count": null,
      "outputs": []
    },
    {
      "cell_type": "code",
      "source": [
        "#Definindo Distância da Tela (L)\n",
        "def setL():\n",
        "  L = float(input('Valor da distância da Tela (L): '))\n",
        "  parametros['Distância da Tela'] = E\n",
        "  return L"
      ],
      "metadata": {
        "id": "J3ayZrCRqV7J"
      },
      "execution_count": null,
      "outputs": []
    },
    {
      "cell_type": "code",
      "source": [
        "# Definindo o angulo (θ) da particula em relação ao eixo X\n",
        "def setAngle():\n",
        "  angulo = random.randint(1, 90)\n",
        "  angulo = angulo * (math.pi/180)\n",
        "  return angulo"
      ],
      "metadata": {
        "id": "TjIfqo6zgQXr"
      },
      "execution_count": null,
      "outputs": []
    },
    {
      "cell_type": "code",
      "source": [
        "# Definindo distância de deslocamento (Sx)\n",
        "def setSx(maxSize):\n",
        "  Sx = random.uniform(0, maxSize)\n",
        "  return Sx"
      ],
      "metadata": {
        "id": "RJUJiULE8ALq"
      },
      "execution_count": null,
      "outputs": []
    },
    {
      "cell_type": "markdown",
      "source": [
        "Calculos de valores das variaveis"
      ],
      "metadata": {
        "id": "0DSXmuXNSwAq"
      }
    },
    {
      "cell_type": "code",
      "source": [
        "# Calculando a aceleração no campo elétrico uniforme\n",
        "def getA():\n",
        "  accel = q * E / m # Aceleração\n",
        "  parametros['Aceleração'] = accel\n",
        "  return accel"
      ],
      "metadata": {
        "id": "T6X0DJWx-Y8q"
      },
      "execution_count": null,
      "outputs": []
    },
    {
      "cell_type": "code",
      "source": [
        "# Calcular o tempo de deslocamento\n",
        "def getT(angle, Sx):\n",
        "  return Sx/(v0*math.cos(angle))"
      ],
      "metadata": {
        "id": "pUqT_yQS9y-S"
      },
      "execution_count": null,
      "outputs": []
    },
    {
      "cell_type": "code",
      "source": [
        "# Decompor velocidade nos componentes x e y\n",
        "def getVx(angle):\n",
        "  return v0 * math.cos(angle)\n",
        "\n",
        "def getVy(angle, t):\n",
        "  return v0 * math.sin(angle) - a * t"
      ],
      "metadata": {
        "id": "ZF3dMM5S9OcK"
      },
      "execution_count": null,
      "outputs": []
    },
    {
      "cell_type": "markdown",
      "source": [
        "Funções de assistência"
      ],
      "metadata": {
        "id": "51SI4NVLfFuQ"
      }
    },
    {
      "cell_type": "code",
      "source": [
        "def sortIt(arr):\n",
        "  return np.sort(arr)"
      ],
      "metadata": {
        "id": "JurEjCg2fIqA"
      },
      "execution_count": null,
      "outputs": []
    },
    {
      "cell_type": "code",
      "source": [
        "def showParams():\n",
        "  print(f'Paramêtros do modelo: ')\n",
        "  for k, v in parametros.items():\n",
        "    print(f'-> {k}: {v}')"
      ],
      "metadata": {
        "id": "lIr55-donji5"
      },
      "execution_count": null,
      "outputs": []
    },
    {
      "cell_type": "markdown",
      "source": [
        "Plotagem"
      ],
      "metadata": {
        "id": "TAKJla0tYqOt"
      }
    },
    {
      "cell_type": "code",
      "source": [
        "#Function y(x)\n",
        "def y(angle, x):\n",
        "  return (-a/2) * (1/v0*math.cos(angle)**2) * (x**2) + math.tan(angle)"
      ],
      "metadata": {
        "id": "GL19XGlIFvY-"
      },
      "execution_count": null,
      "outputs": []
    },
    {
      "cell_type": "code",
      "source": [
        "#Variable Declaration\n",
        "v0 = setV0()\n",
        "E = setE()\n",
        "a = getA()\n",
        "L = setL()\n",
        "#Print for verification \n",
        "print(f'V0 = {v0} m/s')\n",
        "print(f'E = {E} n/c')\n",
        "print(f'a = {a} m/s²')\n",
        "print(f'L = {L} m')"
      ],
      "metadata": {
        "colab": {
          "base_uri": "https://localhost:8080/"
        },
        "id": "WrLNbedPdcd2",
        "outputId": "9a9d324d-99ee-401a-a28b-029931c489b8"
      },
      "execution_count": null,
      "outputs": [
        {
          "output_type": "stream",
          "name": "stdout",
          "text": [
            "Velocidade Inicial do Elétron (m/s): 2000000\n",
            "Valor do campo elétrico (n/c): 5\n",
            "Valor da distância da Tela (L): 3\n",
            "V0 = 2000000.0 m/s\n",
            "E = 5.0 n/c\n",
            "a = 879350510428.1008 m/s²\n",
            "L = 3.0 m\n"
          ]
        }
      ]
    },
    {
      "cell_type": "code",
      "source": [
        "# Collection of data\n",
        "angulos = []\n",
        "positions = []\n",
        "ys = []\n",
        "for loop in range(0, 15):\n",
        "  angulos.append(setAngle())\n",
        "  positions.append(setSx(L))\n",
        "  ys.append(y(angulos[loop], positions[loop]))\n",
        "\n",
        "# Array sorting\n",
        "angulos = sortIt(angulos)\n",
        "positions = sortIt(positions)\n",
        "ys = sortIt(ys)\n",
        "\n",
        "# Plotting Graph\n",
        "plt.plot(angulos, ys)\n",
        "plt.title('Y(angle)')\n",
        "plt.xlabel('Angulo (rad)')\n",
        "plt.ylabel('Y')\n",
        "plt.grid()\n",
        "plt.show()"
      ],
      "metadata": {
        "colab": {
          "base_uri": "https://localhost:8080/",
          "height": 295
        },
        "id": "zbmNozqZGYbm",
        "outputId": "e1c404f0-464a-4e36-bdc9-c98d2ee5b023"
      },
      "execution_count": null,
      "outputs": [
        {
          "output_type": "display_data",
          "data": {
            "text/plain": [
              "<Figure size 432x288 with 1 Axes>"
            ],
            "image/png": "[encoded data removed]"
          },
          "metadata": {
            "needs_background": "light"
          }
        }
      ]
    },
    {
      "cell_type": "markdown",
      "source": [
        "Informações Extras"
      ],
      "metadata": {
        "id": "tG-Viuy8oDIg"
      }
    },
    {
      "cell_type": "code",
      "source": [
        "#Run it to see Params\n",
        "showParams()"
      ],
      "metadata": {
        "colab": {
          "base_uri": "https://localhost:8080/"
        },
        "id": "H2kv29CyoGrd",
        "outputId": "90bb565f-7c7b-4822-e8fa-742d7b5e4834"
      },
      "execution_count": null,
      "outputs": [
        {
          "output_type": "stream",
          "name": "stdout",
          "text": [
            "Paramêtros do modelo: \n",
            "-> Carga do elétron: 1.60217663e-19\n",
            "-> Massa do elétron: 9.11e-31\n",
            "-> Velocidade Inicial: 2000000.0\n",
            "-> Campo Elétrico: 5.0\n",
            "-> Aceleração: 879350510428.1008\n",
            "-> Distância da Tela: 5.0\n"
          ]
        }
      ]
    },
    {
      "cell_type": "code",
      "source": [
        "#Show decomposition of velocity\n",
        "#(Run after plotting)\n",
        "\n",
        "vxs = []\n",
        "vys = []\n",
        "for loop in range(0, len(angulos)):\n",
        "  currentAngle = angulos[loop]\n",
        "  currentPos = positions[loop]\n",
        "  print(f'Where angle = {currentAngle:.2f} rad \\n&& Position = {currentPos:.2f} m')\n",
        "  print(f'Vx = {getVx(currentAngle):.2f} m/s')\n",
        "  print(f'Vy = {getVy(currentAngle, getT(currentAngle, currentPos)):.2f} m/s')\n",
        "  print('--------------')"
      ],
      "metadata": {
        "colab": {
          "base_uri": "https://localhost:8080/"
        },
        "id": "LlJNHktwoq-I",
        "outputId": "06d552a1-4359-489a-8025-019223bd861d"
      },
      "execution_count": null,
      "outputs": [
        {
          "output_type": "stream",
          "name": "stdout",
          "text": [
            "Where angle = 0.05 rad \n",
            "&& Position = 0.29 m\n",
            "Vx = 1997259.07 m/s\n",
            "Vy = -20966.85 m/s\n",
            "--------------\n",
            "Where angle = 0.09 rad \n",
            "&& Position = 0.48 m\n",
            "Vx = 1992389.40 m/s\n",
            "Vy = -37672.78 m/s\n",
            "--------------\n",
            "Where angle = 0.21 rad \n",
            "&& Position = 0.71 m\n",
            "Vx = 1956295.20 m/s\n",
            "Vy = 96896.36 m/s\n",
            "--------------\n",
            "Where angle = 0.52 rad \n",
            "&& Position = 1.15 m\n",
            "Vx = 1732050.81 m/s\n",
            "Vy = 418530.86 m/s\n",
            "--------------\n",
            "Where angle = 0.59 rad \n",
            "&& Position = 1.24 m\n",
            "Vx = 1658075.15 m/s\n",
            "Vy = 458700.96 m/s\n",
            "--------------\n",
            "Where angle = 0.61 rad \n",
            "&& Position = 1.58 m\n",
            "Vx = 1638304.09 m/s\n",
            "Vy = 296855.73 m/s\n",
            "--------------\n",
            "Where angle = 0.65 rad \n",
            "&& Position = 1.69 m\n",
            "Vx = 1597271.02 m/s\n",
            "Vy = 274644.26 m/s\n",
            "--------------\n",
            "Where angle = 0.72 rad \n",
            "&& Position = 1.71 m\n",
            "Vx = 1509419.16 m/s\n",
            "Vy = 318598.97 m/s\n",
            "--------------\n",
            "Where angle = 0.98 rad \n",
            "&& Position = 1.82 m\n",
            "Vx = 1118385.81 m/s\n",
            "Vy = 228636.75 m/s\n",
            "--------------\n",
            "Where angle = 1.05 rad \n",
            "&& Position = 1.97 m\n",
            "Vx = 1000000.00 m/s\n",
            "Vy = -3913.51 m/s\n",
            "--------------\n",
            "Where angle = 1.12 rad \n",
            "&& Position = 2.04 m\n",
            "Vx = 876742.29 m/s\n",
            "Vy = -245500.47 m/s\n",
            "--------------\n",
            "Where angle = 1.20 rad \n",
            "&& Position = 2.36 m\n",
            "Vx = 716735.90 m/s\n",
            "Vy = -1024506.68 m/s\n",
            "--------------\n",
            "Where angle = 1.31 rad \n",
            "&& Position = 2.58 m\n",
            "Vx = 517638.09 m/s\n",
            "Vy = -2449666.25 m/s\n",
            "--------------\n",
            "Where angle = 1.40 rad \n",
            "&& Position = 2.63 m\n",
            "Vx = 347296.36 m/s\n",
            "Vy = -4693375.85 m/s\n",
            "--------------\n",
            "Where angle = 1.48 rad \n",
            "&& Position = 2.78 m\n",
            "Vx = 174311.49 m/s\n",
            "Vy = -12055345.99 m/s\n",
            "--------------\n"
          ]
        }
      ]
    }
  ]
}