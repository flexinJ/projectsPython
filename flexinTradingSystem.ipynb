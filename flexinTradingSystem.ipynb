{
  "cells": [
    {
      "cell_type": "markdown",
      "metadata": {
        "id": "view-in-github",
        "colab_type": "text"
      },
      "source": [
        "<a href=\"https://colab.research.google.com/github/flexinJ/projectsPython/blob/main/flexinTradingSystem.ipynb\" target=\"_parent\"><img src=\"https://colab.research.google.com/assets/colab-badge.svg\" alt=\"Open In Colab\"/></a>"
      ]
    },
    {
      "cell_type": "code",
      "execution_count": null,
      "metadata": {
        "id": "t_aFRGeP8o2w"
      },
      "outputs": [],
      "source": [
        "# Downloading required packages\n",
        "!pip install yfinance\n",
        "!pip install numpy\n",
        "!pip install pandas\n",
        "!pip install hurst"
      ]
    },
    {
      "cell_type": "code",
      "execution_count": null,
      "metadata": {
        "id": "NsE9PTzF9hB7"
      },
      "outputs": [],
      "source": [
        "# Import of the necessary modules\n",
        "import numpy as np\n",
        "import pandas as pd\n",
        "import math\n",
        "import yfinance as yf\n",
        "from hurst import compute_Hc\n",
        "import matplotlib.pyplot as plt\n",
        "from IPython.display import clear_output \n",
        "from time import sleep"
      ]
    },
    {
      "cell_type": "code",
      "execution_count": null,
      "metadata": {
        "id": "afGCAGmh-QT-"
      },
      "outputs": [],
      "source": [
        "######################## Welcome ##########################\n",
        "# Based in Bollinger bands, Hurt\n",
        "# Analyze in M15 w/ input in M1\n",
        "# Flexin (@moraisjota) make this ~ enjoy xD\n",
        "######################## FlexinBot ########################"
      ]
    },
    {
      "cell_type": "code",
      "execution_count": null,
      "metadata": {
        "id": "Ir6D5Y5W_1dF"
      },
      "outputs": [],
      "source": [
        "class tradingSystem():\n",
        "  def flexin(w, dateRange, timeFrame):\n",
        "    for symbol in wallet:\n",
        "      ######################## DataFrame ########################\n",
        "      # Finance database import\n",
        "      data = yf.Ticker(symbol).history(period=dateRange, interval=timeFrame)\n",
        "      data.drop(['Volume', 'Dividends', 'Stock Splits'], axis=1, inplace=True)\n",
        "      # Calculate series of Log return of close prices \n",
        "      data['logCloseReturn'] = np.log(data['Close']/data['Close'].shift(1))\n",
        "      ######################## Indicators ########################\n",
        "      # Bollinger bands\n",
        "      n = 20 # Moving average periods\n",
        "      k = 2 # Factor to shift the bands\n",
        "      data['Standard Deviation'] = data['Close'].rolling(n).std()\n",
        "      data['Middle Band'] = data['Close'].rolling(n).mean()\n",
        "      data['Upper Band'] = data['Middle Band'] + data['Standard Deviation']*k\n",
        "      data['Lower Band'] = data['Middle Band'] - data['Standard Deviation']*k\n",
        "      # Hurst exponent filter (https://github.com/Mottl/hurst)\n",
        "      H = lambda x: compute_Hc(x)[0]\n",
        "      data['Hurst'] = data['logCloseReturn'].rolling(window=100).apply(H)\n",
        "      # Dealing with NaN data\n",
        "      data.dropna(inplace=True, axis=0)\n",
        "      ###################### Current values ######################\n",
        "      # Price\n",
        "      closePrice = data['Close'][-1] \n",
        "      openPrice = data['Open'][-1]\n",
        "      # Bollinger bands\n",
        "      middleBand = data['Middle Band'][-1] \n",
        "      upperBand = data['Upper Band'][-1]\n",
        "      lowerBand = data['Lower Band'][-1]\n",
        "      # Hurst exponent\n",
        "      hurst = data['Hurst'][-1]\n",
        "      print('-----------------------------------------------------------------')\n",
        "      print('####################### Flexin strategy 🤖 ######################')\n",
        "      ###################### Flexin strategy ######################\n",
        "      if 1 > hurst > 0.5:\n",
        "        print(f'>>> for {symbol}')\n",
        "        print(f'WOW 🏂! H© = {hurst.round(2)} w/ persistent behavior.')\n",
        "        if closePrice > upperBand: # Buy signal\n",
        "          buy = True\n",
        "          print(f'Price closes above the upper band. ⬆️')\n",
        "          if True in buy:\n",
        "            print(f'Uptrend probability. 📈📈📈')\n",
        "        else:\n",
        "          if closePrice < lowerBand: # Sell signal\n",
        "            sell = True\n",
        "            print(f'Price closes below the lower band. ⬇️')\n",
        "            if True in sell:\n",
        "              print(f'Downtrend probability. 📉📉📉')\n",
        "      else:\n",
        "        print(f'>>> for {symbol} -> H© = {hurst.round(2)} 💤')\n",
        "        print('Wait...✋! Anti-persistent behavior.')"
      ]
    },
    {
      "cell_type": "code",
      "source": [
        "wallet = ['EURUSD=X', '^HSI']"
      ],
      "metadata": {
        "id": "DdfhyQ-kwOi7"
      },
      "execution_count": null,
      "outputs": []
    },
    {
      "cell_type": "code",
      "execution_count": null,
      "metadata": {
        "id": "AZvXDWeU-zd3"
      },
      "outputs": [],
      "source": [
        "while True:\n",
        "  tradingSystem.flexin(wallet, '5d', '15m')"
      ]
    }
  ],
  "metadata": {
    "accelerator": "GPU",
    "colab": {
      "provenance": [],
      "authorship_tag": "ABX9TyOGhM/X0v+MJWRXJX6FDX9l",
      "include_colab_link": true
    },
    "gpuClass": "standard",
    "kernelspec": {
      "display_name": "Python 3",
      "name": "python3"
    },
    "language_info": {
      "name": "python"
    }
  },
  "nbformat": 4,
  "nbformat_minor": 0
}